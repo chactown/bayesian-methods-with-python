{
 "cells": [
  {
   "cell_type": "markdown",
   "metadata": {},
   "source": [
    "# Joint Distributions"
   ]
  },
  {
   "cell_type": "markdown",
   "metadata": {},
   "source": [
    "## Logical operations\n",
    "\n",
    "1. Union (or) of events: $$ P(A \\cup B) = P(A) + P(B) $$ for exclusive events according the 3rd axiom, for inclusive events, i.e. $AB \\neq \\emptyset$, we have to discount the events counted twice, therefore $$ P(A \\cup B) = P(A) + P(B) - P(AB) $$. This is equivalent to the logical operator *or*. In General: $$  $$\n",
    "2. Intersection (and) of events: $$ P(A\\cap B) = P(A, B) = P(A)P(B)$$ for independent events. There is no unique rule for dependent events, it is given by a joint distribution. This is equivalent to the logical operator *and*.\n",
    "\n",
    "## Joint distribution\n",
    "\n",
    "$$ P(a_1 < X_1 < b_1, a_2 < X_2 < b_2, ... , a_N < X_N < b_N) = \\int_{a_1}^{b_1} \\int_{a_2}^{b_2} ... \\int_{a_N}^{b_N} p(x_1, x_2, ..., x_N) dx_1 dx_2 ... dx_N $$\n",
    "\n",
    "Crossed momenta:\n",
    "\n",
    "$$ E[(X_i - E[X_i])^n (X_j - E[X_j])^m] = \\int_{-\\infty}^\\infty \\int_{-\\infty}^\\infty (x_i-E[X_i])^n (x_j-E[X_j])^m p(x)dx $$\n",
    "\n",
    "Marginal distribution:\n",
    "\n",
    "$$ p(x_1, x_2, ..., x_{i-1}, x_{i+1} , x_N) = \\int_{-\\infty}^\\infty p(x_1, x_2, ..., x_N) dx_i$$"
   ]
  },
  {
   "cell_type": "markdown",
   "metadata": {},
   "source": [
    "## Bivariated Normal\n",
    "\n",
    "$$ p(x,y) = \\frac{1}{2\\pi \\sigma_x \\sigma_y \\sqrt{1-\\rho^2} } \\exp \\left\\{ -\\frac{1}{2(1-\\rho^2)} \\left[ \\left(\\frac{x-\\mu_x}{\\sigma_x}\\right)^2 + \\left(\\frac{y-\\mu_y}{\\sigma_y}\\right)^2 -2\\rho\\left(\\frac{x-\\mu_x}{\\sigma_x}\\right)\\left(\\frac{y-\\mu_y}{\\sigma_y}\\right) \\right] \\right\\} $$\n",
    "\n",
    "Expected values:\n",
    "\n",
    "$$ E[X] = \\mu_x, ~~~~~  E[Y] = \\mu_y$$\n",
    "\n",
    "Variance:\n",
    "\n",
    "$$ Var[X] = \\sigma_x, ~~~~~  Var[Y] = \\sigma_y$$\n",
    "\n",
    "Covariance:\n",
    "\n",
    "$$ Cov[X, Y] = \\rho\\sigma_x\\sigma_y $$\n",
    "\n",
    "Correlation:\n",
    "\n",
    "$$ Corr[X, Y] \\equiv \\frac{Cov[X, Y]}{E[X]E[Y]} = \\rho $$"
   ]
  },
  {
   "cell_type": "markdown",
   "metadata": {},
   "source": [
    "## Characterizing a distribution"
   ]
  },
  {
   "cell_type": "code",
   "execution_count": null,
   "metadata": {},
   "outputs": [],
   "source": []
  },
  {
   "cell_type": "markdown",
   "metadata": {},
   "source": [
    "## Multivariated Normal\n",
    "\n",
    "$$ p(\\mathbf{X}) = \\frac{1}{\\sqrt{(2 \\pi)^{N} \\det \\mathbf{\\Sigma}}} \\exp\\left[ -\\frac{1}{2} (\\mathbf{X-M})^T \\mathbf{\\Sigma}^{-1}(\\mathbf{X-M})\\right]$$\n",
    "\n",
    "Where\n",
    "\n",
    "$$\\mathbf{X}=\\left( \\begin{array}{c} x_1 \\\\ x_2 \\\\ \\vdots \\\\ x_N \\end{array} \\right), ~~~~~ \\mathbf{M} = E[\\mathbf{X}] = \\left( \\begin{array}{c} \\mu_1 \\\\ \\mu_2 \\\\ \\vdots \\\\ \\mu_N \\end{array} \\right), ~~~~~ \\mathbf{\\Sigma}=Cov[\\mathbf{X}, \\mathbf{X}] = \\left( \\begin{array}{cccc} \\sigma_1^2 & \\rho_{1,2}\\sigma_1\\sigma_2 & \\cdots & \\rho_{1,N}\\sigma_1\\sigma_N \\\\ \\rho_{1,2}\\sigma_1\\sigma_2 & \\sigma_2^2 & \\cdots & \\rho_{2,N}\\sigma_2\\sigma_N \\\\ \\vdots & \\vdots & \\ddots & \\vdots\\\\ \\rho_{1,N}\\sigma_1\\sigma_N &  \\rho_{2,N}\\sigma_2\\sigma_N & \\cdots & \\sigma_N^2\\end{array} \\right)$$"
   ]
  },
  {
   "cell_type": "code",
   "execution_count": null,
   "metadata": {},
   "outputs": [],
   "source": []
  },
  {
   "cell_type": "markdown",
   "metadata": {},
   "source": [
    "## Conditional Probability\n",
    "\n",
    "Definition: $$ P(A|B) = \\frac{P(A, B)}{P(B)} $$\n",
    "\n",
    "If A and B are independent: $P(A|B) = P(A)$, since $P(A,B)=P(A)P(B)$.\n",
    "\n",
    "## Bayes Theorem\n",
    "\n",
    "Assuming $P(A, B) = P(B, A)$\n",
    "\n",
    "$$ P(A|B)P(B) = P(B|A)P(A) $$\n",
    "\n",
    "Therefore\n",
    "\n",
    "$$ P(A|B) = \\frac{P(B|A)P(A)}{P(B)} $$\n",
    "\n",
    "Example: Monty Hall Problem"
   ]
  },
  {
   "cell_type": "code",
   "execution_count": null,
   "metadata": {},
   "outputs": [],
   "source": []
  }
 ],
 "metadata": {
  "kernelspec": {
   "display_name": "Python 3",
   "language": "python",
   "name": "python3"
  },
  "language_info": {
   "codemirror_mode": {
    "name": "ipython",
    "version": 3
   },
   "file_extension": ".py",
   "mimetype": "text/x-python",
   "name": "python",
   "nbconvert_exporter": "python",
   "pygments_lexer": "ipython3",
   "version": "3.7.4"
  }
 },
 "nbformat": 4,
 "nbformat_minor": 2
}
